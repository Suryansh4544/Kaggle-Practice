{
 "cells": [
  {
   "cell_type": "code",
   "execution_count": 1,
   "metadata": {},
   "outputs": [
    {
     "data": {
      "application/javascript": [
       "IPython.notebook.set_autosave_interval(10000)"
      ]
     },
     "metadata": {},
     "output_type": "display_data"
    },
    {
     "name": "stdout",
     "output_type": "stream",
     "text": [
      "Autosaving every 10 seconds\n"
     ]
    }
   ],
   "source": [
    "%autosave 10"
   ]
  },
  {
   "cell_type": "markdown",
   "metadata": {},
   "source": [
    "**First, create a dataframe of *cleaned_data.csv*. Then, use scikit-learn's `train_test_split` to make a new set of training and testing data. This time, instead of `EDUCATION`, use `LIMIT_BAL`: the account's credit limit.**"
   ]
  },
  {
   "cell_type": "code",
   "execution_count": 56,
   "metadata": {
    "eid": "662ef"
   },
   "outputs": [],
   "source": [
    "import pandas as pd \n",
    "import numpy as np\n",
    "import matplotlib.pyplot as plt\n",
    "%matplotlib inline\n",
    "from sklearn.model_selection import train_test_split\n",
    "from sklearn.linear_model import LogisticRegression\n",
    "from sklearn.metrics import roc_auc_score,roc_curve,precision_recall_curve,precision_recall_fscore_support,auc"
   ]
  },
  {
   "cell_type": "code",
   "execution_count": 43,
   "metadata": {},
   "outputs": [
    {
     "name": "stdout",
     "output_type": "stream",
     "text": [
      "<class 'pandas.core.frame.DataFrame'>\n",
      "Int64Index: 19998 entries, 21662 to 23720\n",
      "Data columns (total 27 columns):\n",
      " #   Column           Non-Null Count  Dtype\n",
      "---  ------           --------------  -----\n",
      " 0   LIMIT_BAL        19998 non-null  int64\n",
      " 1   SEX              19998 non-null  int64\n",
      " 2   EDUCATION        19998 non-null  int64\n",
      " 3   MARRIAGE         19998 non-null  int64\n",
      " 4   AGE              19998 non-null  int64\n",
      " 5   PAY_1            19998 non-null  int64\n",
      " 6   PAY_2            19998 non-null  int64\n",
      " 7   PAY_3            19998 non-null  int64\n",
      " 8   PAY_4            19998 non-null  int64\n",
      " 9   PAY_5            19998 non-null  int64\n",
      " 10  PAY_6            19998 non-null  int64\n",
      " 11  BILL_AMT1        19998 non-null  int64\n",
      " 12  BILL_AMT2        19998 non-null  int64\n",
      " 13  BILL_AMT3        19998 non-null  int64\n",
      " 14  BILL_AMT4        19998 non-null  int64\n",
      " 15  BILL_AMT5        19998 non-null  int64\n",
      " 16  BILL_AMT6        19998 non-null  int64\n",
      " 17  PAY_AMT1         19998 non-null  int64\n",
      " 18  PAY_AMT2         19998 non-null  int64\n",
      " 19  PAY_AMT3         19998 non-null  int64\n",
      " 20  PAY_AMT4         19998 non-null  int64\n",
      " 21  PAY_AMT5         19998 non-null  int64\n",
      " 22  PAY_AMT6         19998 non-null  int64\n",
      " 23  graduate school  19998 non-null  int64\n",
      " 24  high school      19998 non-null  int64\n",
      " 25  others           19998 non-null  int64\n",
      " 26  university       19998 non-null  int64\n",
      "dtypes: int64(27)\n",
      "memory usage: 4.3 MB\n"
     ]
    }
   ],
   "source": [
    "df=pd.read_csv(\"Task 1 Data set/cleaned_data.csv\")\n",
    "df.drop([\"ID\",\"EDUCATION_CAT\"],axis=1,inplace=True)\n",
    "X, Y = df.drop(\"default payment next month\",axis=1), df[\"default payment next month\"]\n",
    "X_train,X_test,Y_train,Y_test = train_test_split(X,Y,random_state=2)\n",
    "X_train.info()"
   ]
  },
  {
   "cell_type": "markdown",
   "metadata": {},
   "source": [
    "_________________________________________________________________________\n",
    "**Next, train a logistic regression model using the training data from your split.**\n"
   ]
  },
  {
   "cell_type": "code",
   "execution_count": 44,
   "metadata": {
    "eid": "05e84"
   },
   "outputs": [
    {
     "name": "stderr",
     "output_type": "stream",
     "text": [
      "/home/suryanshmishra/Projects/env/lib/python3.8/site-packages/sklearn/linear_model/_logistic.py:762: ConvergenceWarning: lbfgs failed to converge (status=1):\n",
      "STOP: TOTAL NO. of ITERATIONS REACHED LIMIT.\n",
      "\n",
      "Increase the number of iterations (max_iter) or scale the data as shown in:\n",
      "    https://scikit-learn.org/stable/modules/preprocessing.html\n",
      "Please also refer to the documentation for alternative solver options:\n",
      "    https://scikit-learn.org/stable/modules/linear_model.html#logistic-regression\n",
      "  n_iter_i = _check_optimize_result(\n"
     ]
    },
    {
     "data": {
      "text/plain": [
       "LogisticRegression()"
      ]
     },
     "execution_count": 44,
     "metadata": {},
     "output_type": "execute_result"
    }
   ],
   "source": [
    "model = LogisticRegression()\n",
    "model.fit(X_train,Y_train)"
   ]
  },
  {
   "cell_type": "markdown",
   "metadata": {},
   "source": [
    "_________________________________________________________________________\n",
    "**Then, create the array of predicted probabilities for the testing data.**\n"
   ]
  },
  {
   "cell_type": "code",
   "execution_count": 61,
   "metadata": {
    "eid": "b671b"
   },
   "outputs": [
    {
     "data": {
      "text/plain": [
       "array([0.34267812, 0.03122709, 0.13383987, ..., 0.32289978, 0.00920265,\n",
       "       0.17829984])"
      ]
     },
     "execution_count": 61,
     "metadata": {},
     "output_type": "execute_result"
    }
   ],
   "source": [
    "y_preds = model.predict(X_test)\n",
    "y_probs=model.predict_proba(X_test)\n",
    "y_probs_positive = y_probs[:,1]\n",
    "y_probs_positive"
   ]
  },
  {
   "cell_type": "markdown",
   "metadata": {},
   "source": [
    "_________________________________________________________________________\n",
    "**Next, calculate the ROC AUC using the predicted probabilities and the true labels of the testing data. Compare this to the ROC AUC from using the `EDUCATION` feature.**\n"
   ]
  },
  {
   "cell_type": "code",
   "execution_count": 46,
   "metadata": {
    "eid": "58476"
   },
   "outputs": [
    {
     "data": {
      "text/plain": [
       "0.6535817586446536"
      ]
     },
     "execution_count": 46,
     "metadata": {},
     "output_type": "execute_result"
    }
   ],
   "source": [
    "roc_auc_score(Y_test, y_probs_positive)"
   ]
  },
  {
   "cell_type": "markdown",
   "metadata": {},
   "source": [
    "_________________________________________________________________________\n",
    "**Now, plot the ROC curve.**\n"
   ]
  },
  {
   "cell_type": "code",
   "execution_count": 47,
   "metadata": {
    "eid": "289eb"
   },
   "outputs": [
    {
     "data": {
      "image/png": "[encoded data removed]",
      "text/plain": [
       "<Figure size 432x288 with 1 Axes>"
      ]
     },
     "metadata": {
      "needs_background": "light"
     },
     "output_type": "display_data"
    }
   ],
   "source": [
    "precision, recall, threshold = roc_curve(Y_test, y_probs_positive)\n",
    "def plot_roc_curve(p,r):\n",
    "    '''\n",
    "    Plots ROC curve given the Precision and Recall of a Set.\n",
    "    '''\n",
    "    plt.plot(p,r,color='orange',label='ROC')\n",
    "    plt.plot([0,1],[0,1],color='darkblue',linestyle='--',label='Guessing') # Baseline\n",
    "    plt.ylabel(\"True Positive\")\n",
    "    plt.xlabel(\"False Positive\")\n",
    "    plt.title(\"Receiver Operating Charaterstic (ROC) curve\")\n",
    "    plt.legend()\n",
    "    plt.show()\n",
    "plot_roc_curve(precision,recall)"
   ]
  },
  {
   "cell_type": "markdown",
   "metadata": {},
   "source": [
    "_________________________________________________________________________\n",
    "**Then, calculate the data for the precision-recall curve on the testing data using scikit-learn functionality.**\n"
   ]
  },
  {
   "cell_type": "code",
   "execution_count": 52,
   "metadata": {
    "eid": "73fdb"
   },
   "outputs": [
    {
     "data": {
      "text/plain": [
       "(array([0.77072072, 0.16666667]),\n",
       " array([9.99026859e-01, 6.54450262e-04]),\n",
       " array([0.87014748, 0.00130378]),\n",
       " array([5138, 1528]))"
      ]
     },
     "execution_count": 52,
     "metadata": {},
     "output_type": "execute_result"
    }
   ],
   "source": [
    "precision_recall_fscore_support(Y_test,y_preds)"
   ]
  },
  {
   "cell_type": "markdown",
   "metadata": {},
   "source": [
    "_________________________________________________________________________\n",
    "**Plot the precision-recall curve using matplotlib.**\n"
   ]
  },
  {
   "cell_type": "code",
   "execution_count": 55,
   "metadata": {
    "ein": "5119c"
   },
   "outputs": [
    {
     "data": {
      "image/png": "[encoded data removed]",
      "text/plain": [
       "<Figure size 864x576 with 1 Axes>"
      ]
     },
     "metadata": {
      "needs_background": "light"
     },
     "output_type": "display_data"
    }
   ],
   "source": [
    "precision,recall,thresholds=precision_recall_curve(Y_test,y_probs_positive)\n",
    "plt.figure(figsize=(12,8))\n",
    "plt.title('Precision - Recall Curve For Logistic Regression ')\n",
    "plt.plot(recall,precision)\n",
    "plt.xlabel('Recall')\n",
    "plt.ylabel('Precision')\n",
    "plt.show()"
   ]
  },
  {
   "cell_type": "markdown",
   "metadata": {},
   "source": [
    "_________________________________________________________________________\n",
    "**Now, use scikit-learn to calculate the area under the precision-recall curve.**\n"
   ]
  },
  {
   "cell_type": "code",
   "execution_count": 60,
   "metadata": {
    "eid": "34e7d"
   },
   "outputs": [
    {
     "data": {
      "text/plain": [
       "0.3584428764307102"
      ]
     },
     "execution_count": 60,
     "metadata": {},
     "output_type": "execute_result"
    }
   ],
   "source": [
    "auc(recall,precision)"
   ]
  },
  {
   "cell_type": "markdown",
   "metadata": {},
   "source": [
    "_________________________________________________________________________\n",
    "**Finally, recalculate the ROC AUC, except this time do it for the training data.**"
   ]
  },
  {
   "cell_type": "code",
   "execution_count": 64,
   "metadata": {
    "eid": "d61c3"
   },
   "outputs": [
    {
     "data": {
      "text/plain": [
       "0.6538543652450165"
      ]
     },
     "execution_count": 64,
     "metadata": {},
     "output_type": "execute_result"
    }
   ],
   "source": [
    "Y_trian_proba = model.predict_proba(X_train)\n",
    "roc_auc_score(Y_train,Y_trian_proba[:,1])\n"
   ]
  },
  {
   "cell_type": "markdown",
   "metadata": {},
   "source": [
    "    How is this different, conceptually and quantitatively, from your earlier calculation?\n"
   ]
  }
 ],
 "metadata": {
  "kernelspec": {
   "display_name": "Python 3",
   "language": "python",
   "name": "python3"
  },
  "language_info": {
   "codemirror_mode": {
    "name": "ipython",
    "version": 3
   },
   "file_extension": ".py",
   "mimetype": "text/x-python",
   "name": "python",
   "nbconvert_exporter": "python",
   "pygments_lexer": "ipython3",
   "version": "3.8.3"
  }
 },
 "nbformat": 4,
 "nbformat_minor": 2
}
